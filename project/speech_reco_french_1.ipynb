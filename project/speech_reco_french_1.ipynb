{
 "cells": [
  {
   "cell_type": "markdown",
   "metadata": {
    "id": "hH-P5oLouDpk"
   },
   "source": [
    "# Process .mp3 file"
   ]
  },
  {
   "cell_type": "code",
   "execution_count": 1,
   "metadata": {
    "id": "a-RVI7qqx8aS",
    "tags": []
   },
   "outputs": [
    {
     "name": "stderr",
     "output_type": "stream",
     "text": [
      "/opt/conda/lib/python3.7/site-packages/tqdm/auto.py:21: TqdmWarning: IProgress not found. Please update jupyter and ipywidgets. See https://ipywidgets.readthedocs.io/en/stable/user_install.html\n",
      "  from .autonotebook import tqdm as notebook_tqdm\n"
     ]
    }
   ],
   "source": [
    "import os\n",
    "import urllib.request\n",
    "import io\n",
    "\n",
    "from transformers import pipeline\n",
    "\n",
    "# Replace with the URL or local path to your mp3 file\n",
    "audio_file_path = \"french_test_extract.mp3\"\n",
    "\n",
    "# Check if the file is a local file or a URL\n",
    "if os.path.exists(audio_file_path):\n",
    "    # The file is a local file\n",
    "    with open(audio_file_path, \"rb\") as f:\n",
    "        content = f.read()\n",
    "else:\n",
    "    # The file is a URL\n",
    "    response = urllib.request.urlopen(audio_file_path)\n",
    "    content = response.read()"
   ]
  },
  {
   "cell_type": "code",
   "execution_count": null,
   "metadata": {
    "colab": {
     "base_uri": "https://localhost:8080/"
    },
    "id": "zn_rY-_stypS",
    "outputId": "24ae75b6-db3a-4686-e62b-43dd2377810f",
    "tags": []
   },
   "outputs": [
    {
     "name": "stderr",
     "output_type": "stream",
     "text": [
      "Downloading (…)lve/main/config.json: 100%|██████████| 1.99k/1.99k [00:00<00:00, 671kB/s]\n",
      "Downloading pytorch_model.bin:  82%|████████▏ | 2.51G/3.06G [03:44<00:49, 11.2MB/s]"
     ]
    }
   ],
   "source": [
    "model_name = \"openai/whisper-medium\"\n",
    "\n",
    "speech_recognition_pipeline = pipeline(\n",
    "    \"automatic-speech-recognition\",\n",
    "    model=model_name,\n",
    "    generate_kwargs = {\"language\":\"<|fr|>\",\"task\": \"transcribe\"}, #set lang to french\n",
    "    chunk_length_s=30, # cut input audio into 30s chunks\n",
    "    device=0  # Use GPU if available, otherwise use CPU\n",
    ")\n",
    "\n",
    "\n",
    "transcription = speech_recognition_pipeline(content)\n",
    "\n",
    "print(transcription)"
   ]
  },
  {
   "cell_type": "code",
   "execution_count": null,
   "metadata": {
    "colab": {
     "base_uri": "https://localhost:8080/"
    },
    "id": "uW8f9YefuERg",
    "outputId": "1b4eeb78-a1ce-4e57-ec75-43ff41a843a5"
   },
   "outputs": [],
   "source": [
    "transcription"
   ]
  },
  {
   "cell_type": "markdown",
   "metadata": {
    "id": "t9fwsF6XwLil"
   },
   "source": [
    "### \"jonatasgrosman/wav2vec2-large-xlsr-53-french\""
   ]
  },
  {
   "cell_type": "markdown",
   "metadata": {
    "id": "VkHyXguJwKRk"
   },
   "source": [
    "{'text': \"lafrique est wacandabdlc c'est le futur dans le enchainois à l'époque l'empire de couche y avait l'électricité les pyramides qu'on voilàau sommeil à de l'ors lors c'est le meilleur conducteur pour l'électricité c'éta fouturs antenne les gens les gensres et l'électricité les gens nes arrivent pas comprendre les égyptiens la science quils avaient ça dépaslentendement et les historiens le savent lafrique a peuplé l'europe avant les européens on les appeler les afropéensils ont été décimés par les vrais européens entregimaes qui venait d'azi  quon les appelér les yamnayads toi cinquante mille ans avant les européens  la notion de la chevalerie on l avait déjà tu retrouves aujourd'hui des tableaux qui sont classés caché dan catacombou cet des renois qui sont moes chevaliers se rlancent lotosa bien sûr ceexistaeit déà bien sûr c'est juse qu'il faut connaître notre histoire\"}\n"
   ]
  },
  {
   "cell_type": "markdown",
   "metadata": {
    "id": "5-iHrcPxyuuy"
   },
   "source": [
    "### default whisper english\n",
    "\n",
    "{'text': \" The African is Wakanda, brother. It's the future of our time, the era of the coast, there was electricity. The pyramids we see there. In the summer there are two places, the best conductor for electricity. It was the future antennas, people with electricity. People do not arrive to understand that. The Egyptians, the nations they had, they do not understand. And the historians, the slaves. Africa can call Europe before Europeans.\"}\n"
   ]
  },
  {
   "cell_type": "markdown",
   "metadata": {
    "id": "zFqd_0sszBjK"
   },
   "source": [
    "### \"facebook/wav2vec2-large-xlsr-53-french\"\n",
    "\n",
    "{'text': \"cdc c'est le futur dans a manchenous à l'époque d l'empire de couche y ait l'électricité les pyramides qu'on voilà au sommeil a de l'or l'or c'est le meilleur conducteur pour l'électricité c'était des des des foutuss entaines les gens les gene et l'électricité les gens nes arrivent pas comprendre les égyptiens la science qu'ils avaient ça dépasse l'entendement et les historiens le savent l'afrique a peuplé l'europe avant les européens on les appeleir les aphropéens ils ont été décimés pah les vrais européens ntréguimet qui venait d'asiequ'on nes appelaet les yamenaïades toi cinquante mille ans avant les européens la notion de la chevalerie on la vait déjà tu retrouves aujourd'hui des tableaux qui sont classés caché dorder dans des catacombous c'est des ronois qui sont motre chevaliers se ralancent lotou ça bien sûr sa existait déjà  bien sûr c'est jusc qui faut connaître notre histoire\"}"
   ]
  },
  {
   "cell_type": "markdown",
   "metadata": {
    "id": "dx9jUBe16Z8N"
   },
   "source": [
    "### \"openai/whisper-medium\" (best one)\n",
    "\n",
    "{'text': \" L'Afrique c'est Wakanda bordel, c'est le futur vraiment chez nous. À l'époque de l'empire de couches, il y avait l'électricité. Les pyramides qu'on voit là. Au sommet il y a de l'or. L'or c'est le meilleur conducteur pour l'électricité. C'était des foutues antennes. Les gens avaient l'électricité. Les gens ils arrivent pas à comprendre ça. Les égyptiens, la science qu'ils avaient, ça dépasse l'entendement. Et les historiens le savent. L'Afrique a peuplé l'Europe avant les Européens. On les appelait les Afropéens. Ils ont été décimés par les vrais Européens, entre guillemets, qui venaient d'Asie. Qu'on les appelait les Yamnayad. Tu vois? Cinquante mille ans avant les Européens, la notion de la chevalerie, on l'avait déjà. Je retrouve aujourd'hui des tableaux qui sont classés, cachés dans des catacombes où c'est des renois qui sont notre chevalier, soeur Lancelot, tout ça. Bien sûr, ça existait déjà. Bien sûr. C'est juste qu'il faut connaître notre histoire.\"}\n"
   ]
  },
  {
   "cell_type": "code",
   "execution_count": null,
   "metadata": {
    "id": "ExCggfMtzBOp"
   },
   "outputs": [],
   "source": []
  }
 ],
 "metadata": {
  "accelerator": "GPU",
  "colab": {
   "provenance": []
  },
  "gpuClass": "standard",
  "kernelspec": {
   "display_name": "Python 3 (ipykernel)",
   "language": "python",
   "name": "python3"
  },
  "language_info": {
   "codemirror_mode": {
    "name": "ipython",
    "version": 3
   },
   "file_extension": ".py",
   "mimetype": "text/x-python",
   "name": "python",
   "nbconvert_exporter": "python",
   "pygments_lexer": "ipython3",
   "version": "3.7.11"
  }
 },
 "nbformat": 4,
 "nbformat_minor": 4
}
